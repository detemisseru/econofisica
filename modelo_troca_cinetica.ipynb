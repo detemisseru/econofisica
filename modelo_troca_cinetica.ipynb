{
 "cells": [
  {
   "cell_type": "markdown",
   "metadata": {},
   "source": [
    "A física estatística, em particular a teoria cinética dos gases, fornece uma estrutura útil para descrever a complexidade das interações de mercado. Como um sistema físico composto de muitas partículas trocando energia via colisões binárias, os Modelos de Troca de Cinética consideram um conjunto de agentes econômicos interagentes que trocam de forma binária uma quantidade conservada chamado de riqueza.\n",
    "\n",
    "Assim, seja um sistema com $N$ agents, onde o agente $i$ é caracterizado pela riqueza $w_i(t)$ no tempo $t$. De modo geral, podemos assumir que inicialmente todos os agentes têm riqueza unitária."
   ]
  },
  {
   "cell_type": "code",
   "execution_count": 44,
   "metadata": {},
   "outputs": [],
   "source": [
    "import numpy as np\n",
    "\n",
    "N = 1000\n",
    "W = np.ones(N)"
   ]
  },
  {
   "cell_type": "markdown",
   "metadata": {},
   "source": [
    "A dinâmica ocorre via repetidas trocas binárias entre agentes selecionados aleatoriamente. Assim, selecionados aleatoriamente os agentes $i$ e $j$, temos\n",
    "\n",
    "$$w_i(t+1) = w_i(t) + \\Delta w; w_j(t+1) = w_j(t) - \\Delta w.$$\n",
    "\n",
    "Esse processo (seleção aletatória + troca) é repetido $T = nN$ vezes, onde $n$ é o número de Passos Monte Carlo. A principal diferença entre os modelos é a regra que determina quantidade trocada $\\Delta w$. Algumas dos principais reagras são:\n",
    "\n",
    "$\\rightarrow$ regra do perdedor: $\\Delta w = \\alpha w_j(t)$, onde $\\alpha$ pode ser uma valor constante ou aleatório\n",
    "\n",
    "$\\rightarrow$ regra do mínimo: $\\Delta w = \\alpha \\min [w_i(t), w_j(t)]$, onde $\\alpha$ pode ser uma valor constante ou aleatório"
   ]
  },
  {
   "cell_type": "markdown",
   "metadata": {},
   "source": [
    "A ideia é acompanhar a evolução da desigualdade. Para isso, vamos medir o índice gini ($G$) a cada Passo Monte Carlo, que é definido por"
   ]
  },
  {
   "cell_type": "code",
   "execution_count": 53,
   "metadata": {},
   "outputs": [],
   "source": [
    "def gini(W):\n",
    "    N = len(W)\n",
    "    I = 2 * np.arange(1, N + 1) - N - 1\n",
    "    return np.sum(I *  np.sort(W)) / (N * np.sum(W))"
   ]
  },
  {
   "cell_type": "markdown",
   "metadata": {},
   "source": [
    "Assim, finalmente, podemos ver um exemplo: regra do perdedor com $\\alpha = 0.5$ "
   ]
  },
  {
   "cell_type": "code",
   "execution_count": 60,
   "metadata": {},
   "outputs": [],
   "source": [
    "import numpy as np\n",
    "\n",
    "'''parametros'''\n",
    "\n",
    "N     = 1000\n",
    "n     = 100\n",
    "alpha = 0.3\n",
    "\n",
    "'''microestado'''\n",
    "\n",
    "W = np.ones(N)\n",
    "\n",
    "'''macroestado'''\n",
    "\n",
    "G = np.zeros(n)\n",
    "\n",
    "for t in range(n * N):\n",
    "    \n",
    "    i = np.random.randint(N)\n",
    "    j = np.random.randint(N)\n",
    "    \n",
    "    delta_w = alpha * W[j]\n",
    "    \n",
    "    W[i] = W[i] + delta_w\n",
    "    W[j] = W[j] - delta_w\n",
    "    \n",
    "    if(t % N == 0): G[t // N] = gini(W)\n"
   ]
  },
  {
   "cell_type": "markdown",
   "metadata": {},
   "source": [
    "Agora, podemos plotar a evolução temporal do gini, verificando que ele se estabizou no valor $G \\approx 0.5$. Aletrando o valor de $\\alpha$ no código, é possível verificar os deferentes valores de gini no equilíbrio para os diferentes valores de $\\alpha$."
   ]
  },
  {
   "cell_type": "code",
   "execution_count": 61,
   "metadata": {},
   "outputs": [
    {
     "data": {
      "image/png": "[encoded data removed]",
      "text/plain": [
       "<Figure size 432x288 with 1 Axes>"
      ]
     },
     "metadata": {},
     "output_type": "display_data"
    }
   ],
   "source": [
    "import matplotlib.pyplot as plt\n",
    "\n",
    "plt.plot(G)\n",
    "plt.show()"
   ]
  },
  {
   "cell_type": "markdown",
   "metadata": {},
   "source": [
    "Vamos olhar agora pra regra do mínimo, também com $\\alpha = 0.5$."
   ]
  },
  {
   "cell_type": "code",
   "execution_count": 65,
   "metadata": {},
   "outputs": [],
   "source": [
    "import numpy as np\n",
    "\n",
    "'''parametros'''\n",
    "\n",
    "N     = 1000\n",
    "n     = 100\n",
    "alpha = 0.5\n",
    "\n",
    "'''microestado'''\n",
    "\n",
    "W = np.ones(N)\n",
    "\n",
    "'''macroestado'''\n",
    "\n",
    "G = np.zeros(n)\n",
    "\n",
    "for t in range(n * N):\n",
    "    \n",
    "    i = np.random.randint(N)\n",
    "    j = np.random.randint(N)\n",
    "    \n",
    "    delta_w = alpha * min(W[i], W[j])\n",
    "    \n",
    "    W[i] = W[i] + delta_w\n",
    "    W[j] = W[j] - delta_w\n",
    "    \n",
    "    if(t % N == 0): G[t // N] = gini(W)\n"
   ]
  },
  {
   "cell_type": "markdown",
   "metadata": {},
   "source": [
    "Plotando a evolução temporal do gini, verificamos que ele se aproxima cada vezmais de $G \\approx 1$, a máxima desigualdade possível. Alterando o valor de $\\alpha$ no código, é possível verificar que isso ocorre para todos os valores de $\\alpha$. \n",
    "\n",
    "Esse é um importante resultado, em que o estado final é a condensação (toda riqueza em um agente)"
   ]
  },
  {
   "cell_type": "code",
   "execution_count": 66,
   "metadata": {},
   "outputs": [
    {
     "data": {
      "image/png": "[encoded data removed]",
      "text/plain": [
       "<Figure size 432x288 with 1 Axes>"
      ]
     },
     "metadata": {},
     "output_type": "display_data"
    }
   ],
   "source": [
    "import matplotlib.pyplot as plt\n",
    "\n",
    "plt.plot(G)\n",
    "plt.show()"
   ]
  }
 ],
 "metadata": {
  "kernelspec": {
   "display_name": "Python 3",
   "language": "python",
   "name": "python3"
  },
  "language_info": {
   "codemirror_mode": {
    "name": "ipython",
    "version": 3
   },
   "file_extension": ".py",
   "mimetype": "text/x-python",
   "name": "python",
   "nbconvert_exporter": "python",
   "pygments_lexer": "ipython3",
   "version": "3.6.4"
  }
 },
 "nbformat": 4,
 "nbformat_minor": 2
}
